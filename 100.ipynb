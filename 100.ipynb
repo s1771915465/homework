{
 "cells": [
  {
   "cell_type": "markdown",
   "metadata": {},
   "source": [
    "# Markdown的使用文档"
   ]
  },
  {
   "cell_type": "markdown",
   "metadata": {},
   "source": [
    "# 关于\"# \"的使用\n",
    "\n",
    "`\"# \"+文字`\n",
    "显示为  \n",
    "# 文字\n",
    "\n",
    "`\"## \"+文字`\n",
    "显示为  \n",
    "## 文字\n",
    "\n",
    "`\"### \"+文字`\n",
    "显示为  \n",
    "### 文字\n",
    "\n",
    "`\"#### \"+文字`\n",
    "显示为  \n",
    "#### 文字\n",
    "\n",
    "以此类推，#越多，所显示的文本内容的字体越小"
   ]
  },
  {
   "cell_type": "markdown",
   "metadata": {},
   "source": [
    "# 关于\"数字. \"的使用(.后有空格)\n",
    "\n",
    "`\"数字. \"+文本`\n",
    "显示为  \n",
    "1. 一\n",
    "2. 二\n",
    "3. 三\n",
    "\n",
    "# 关于\"数字. \"的使用(.后无空格)\n",
    "` \"数字.\"+文本`\n",
    "显示为  \n",
    "1.一\n",
    "2.二\n",
    "3.三"
   ]
  },
  {
   "cell_type": "markdown",
   "metadata": {},
   "source": [
    "# 插入图片\n",
    "`![鼠标悬浮时文字，即图片title](图片地址)`\n",
    "显示为  \n",
    "![实例](https://ss0.bdstatic.com/94oJfD_bAAcT8t7mm9GUKT-xh_/timg?image&quality=100&size=b4000_4000&sec=1603507092&di=48b2f7faf84efdf2757e1716e1318bc8&src=http://pic.51yuansu.com/pic/cover/00/23/77/57e1d8b92edba_610.jpg)"
   ]
  },
  {
   "cell_type": "markdown",
   "metadata": {},
   "source": [
    "# 换行\n",
    "#### 在语句后面打空格，超过两个就可以"
   ]
  },
  {
   "cell_type": "markdown",
   "metadata": {},
   "source": [
    "# 添加链接\n",
    "` [链接文字](要跳转的URL)`\n",
    "显示为\n",
    "[百度](www.baidu.com)"
   ]
  },
  {
   "cell_type": "code",
   "execution_count": null,
   "metadata": {},
   "outputs": [],
   "source": []
  }
 ],
 "metadata": {
  "kernelspec": {
   "display_name": "Python 3",
   "language": "python",
   "name": "python3"
  },
  "language_info": {
   "codemirror_mode": {
    "name": "ipython",
    "version": 3
   },
   "file_extension": ".py",
   "mimetype": "text/x-python",
   "name": "python",
   "nbconvert_exporter": "python",
   "pygments_lexer": "ipython3",
   "version": "3.7.0"
  }
 },
 "nbformat": 4,
 "nbformat_minor": 2
}
